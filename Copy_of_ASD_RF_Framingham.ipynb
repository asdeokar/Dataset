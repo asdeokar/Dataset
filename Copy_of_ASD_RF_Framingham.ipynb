{
  "nbformat": 4,
  "nbformat_minor": 0,
  "metadata": {
    "colab": {
      "provenance": [],
      "authorship_tag": "ABX9TyPZP2HlTmJRhiUflWLBYjXM",
      "include_colab_link": true
    },
    "kernelspec": {
      "name": "python3",
      "display_name": "Python 3"
    },
    "language_info": {
      "name": "python"
    }
  },
  "cells": [
    {
      "cell_type": "markdown",
      "metadata": {
        "id": "view-in-github",
        "colab_type": "text"
      },
      "source": [
        "<a href=\"https://colab.research.google.com/github/asdeokar/Dataset/blob/main/Copy_of_ASD_RF_Framingham.ipynb\" target=\"_parent\"><img src=\"https://colab.research.google.com/assets/colab-badge.svg\" alt=\"Open In Colab\"/></a>"
      ]
    },
    {
      "cell_type": "code",
      "execution_count": null,
      "metadata": {
        "colab": {
          "base_uri": "https://localhost:8080/"
        },
        "id": "fJTR5_eO47D1",
        "outputId": "f6a81432-c6df-4003-f65f-b8f727b4423e"
      },
      "outputs": [
        {
          "output_type": "stream",
          "name": "stdout",
          "text": [
            "[[918   4]\n",
            " [168   8]]\n",
            "              precision    recall  f1-score   support\n",
            "\n",
            "           0       0.85      1.00      0.91       922\n",
            "           1       0.67      0.05      0.09       176\n",
            "\n",
            "    accuracy                           0.84      1098\n",
            "   macro avg       0.76      0.52      0.50      1098\n",
            "weighted avg       0.82      0.84      0.78      1098\n",
            "\n"
          ]
        }
      ],
      "source": [
        "import pandas as pd\n",
        "from sklearn.model_selection import train_test_split\n",
        "from sklearn.preprocessing import StandardScaler\n",
        "from sklearn.linear_model import LogisticRegression\n",
        "from sklearn.metrics import classification_report\n",
        "from imblearn.over_sampling import SMOTE\n",
        "import time\n",
        "\n",
        "from sklearn.ensemble import RandomForestClassifier\n",
        "from sklearn.metrics import classification_report, confusion_matrix\n",
        "\n",
        "# Load the dataset\n",
        "df = pd.read_csv(\"https://raw.githubusercontent.com/asdeokar/Dataset/main/framingham.csv\")\n",
        "\n",
        "# Preprocess the data\n",
        "df = df.dropna()\n",
        "X = df.drop('TenYearCHD', axis=1)\n",
        "y = df['TenYearCHD']\n",
        "\n",
        "# Split the data\n",
        "X_train, X_test, y_train, y_test = train_test_split(X, y, test_size=0.3, random_state=42)\n",
        "# Initialize the classifier\n",
        "rf = RandomForestClassifier(n_estimators=100, random_state=42)\n",
        "\n",
        "# Fit the model\n",
        "rf.fit(X_train, y_train)\n",
        "y_pred = rf.predict(X_test)\n",
        "# Confusion Matrix\n",
        "print(confusion_matrix(y_test, y_pred))\n",
        "\n",
        "# Classification Report\n",
        "print(classification_report(y_test, y_pred))"
      ]
    }
  ]
}